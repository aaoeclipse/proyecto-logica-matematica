{
 "cells": [
  {
   "cell_type": "markdown",
   "metadata": {},
   "source": [
    "# Proyecto Logica Matematica"
   ]
  },
  {
   "cell_type": "markdown",
   "metadata": {},
   "source": [
    "Daniela Villamar 19086 <br>\n",
    "Santiago Paiz 15849 <br>\n",
    "Jose Garavito  <br>\n",
    "\n",
    "\n",
    "El objetivo de este programa conforme al proyecto es realizar un reconocedor de expresiones de calculo proporcional redusido por medio de LEX y YACC. De igual manera se implemento la libreria recomendada de py (ply) que especificaba el documento del proyecto. Gracias a los links de referencia fue posible realizar el programa con éxito."
   ]
  },
  {
   "cell_type": "code",
   "execution_count": 1,
   "metadata": {},
   "outputs": [],
   "source": [
    "import networkx as nx\n",
    "import matplotlib.pyplot as plt\n",
    "import utils.ProyectoLogica as prs\n",
    "from utils.Tree import Tree \n",
    "import json"
   ]
  },
  {
   "cell_type": "code",
   "execution_count": 2,
   "metadata": {},
   "outputs": [],
   "source": [
    "G =nx.DiGraph()"
   ]
  },
  {
   "cell_type": "code",
   "execution_count": 8,
   "metadata": {},
   "outputs": [],
   "source": [
    "y = json.loads(prs.parse('~~q'))"
   ]
  },
  {
   "cell_type": "code",
   "execution_count": 9,
   "metadata": {},
   "outputs": [
    {
     "data": {
      "text/plain": [
       "{'~': {'~': 'q'}}"
      ]
     },
     "execution_count": 9,
     "metadata": {},
     "output_type": "execute_result"
    }
   ],
   "source": [
    "y"
   ]
  },
  {
   "cell_type": "code",
   "execution_count": 10,
   "metadata": {},
   "outputs": [],
   "source": [
    "parse_tree = Tree(False)"
   ]
  },
  {
   "cell_type": "code",
   "execution_count": 11,
   "metadata": {},
   "outputs": [],
   "source": [
    "G = parse_tree.create_graph_from_json(y)"
   ]
  },
  {
   "cell_type": "code",
   "execution_count": 12,
   "metadata": {},
   "outputs": [
    {
     "data": {
      "image/png": "[encoded data removed]",
      "text/plain": [
       "<Figure size 432x288 with 1 Axes>"
      ]
     },
     "metadata": {},
     "output_type": "display_data"
    }
   ],
   "source": [
    "labels = nx.get_node_attributes(G, 'value') \n",
    "nx.draw(G,labels=labels,with_labels=True)"
   ]
  },
  {
   "cell_type": "code",
   "execution_count": 8,
   "metadata": {},
   "outputs": [],
   "source": [
    "def test(node):\n",
    "    for child in node.children:\n",
    "        if (len(child.children) != 0):\n",
    "            test(child)\n",
    "        print(child)"
   ]
  },
  {
   "cell_type": "code",
   "execution_count": 9,
   "metadata": {},
   "outputs": [
    {
     "name": "stdout",
     "output_type": "stream",
     "text": [
      "1 NODE id: 6aa143a2-156a-11eb-81f4-98ded01f465f value: o\n",
      " parent:None\n",
      "2 NODE id: 6aa16b1e-156a-11eb-ae5b-98ded01f465f value: 1\n",
      " parent:1 NODE id: 6aa143a2-156a-11eb-81f4-98ded01f465f value: o\n",
      " parent:None\n",
      "3 NODE id: 6aa16b1f-156a-11eb-bb5c-98ded01f465f value: s\n",
      " parent:2 NODE id: 6aa16b1e-156a-11eb-ae5b-98ded01f465f value: 1\n",
      " parent:1 NODE id: 6aa143a2-156a-11eb-81f4-98ded01f465f value: o\n",
      " parent:None\n",
      "5 NODE id: 6aa16b1a-156a-11eb-b7b1-98ded01f465f value: 0\n",
      " parent:4 NODE id: 6aa16b19-156a-11eb-94f6-98ded01f465f value: ^\n",
      " parent:3 NODE id: 6aa16b18-156a-11eb-b7f7-98ded01f465f value: ~\n",
      " parent:2 NODE id: 6aa143a3-156a-11eb-b468-98ded01f465f value: 0\n",
      " parent:1 NODE id: 6aa143a2-156a-11eb-81f4-98ded01f465f value: o\n",
      " parent:None\n",
      "6 NODE id: 6aa16b1d-156a-11eb-886b-98ded01f465f value: r\n",
      " parent:5 NODE id: 6aa16b1c-156a-11eb-bbf4-98ded01f465f value: 1\n",
      " parent:4 NODE id: 6aa16b19-156a-11eb-94f6-98ded01f465f value: ^\n",
      " parent:3 NODE id: 6aa16b18-156a-11eb-b7f7-98ded01f465f value: ~\n",
      " parent:2 NODE id: 6aa143a3-156a-11eb-b468-98ded01f465f value: 0\n",
      " parent:1 NODE id: 6aa143a2-156a-11eb-81f4-98ded01f465f value: o\n",
      " parent:None\n",
      "6 NODE id: 6aa16b1b-156a-11eb-9ddb-98ded01f465f value: q\n",
      " parent:5 NODE id: 6aa16b1a-156a-11eb-b7b1-98ded01f465f value: 0\n",
      " parent:4 NODE id: 6aa16b19-156a-11eb-94f6-98ded01f465f value: ^\n",
      " parent:3 NODE id: 6aa16b18-156a-11eb-b7f7-98ded01f465f value: ~\n",
      " parent:2 NODE id: 6aa143a3-156a-11eb-b468-98ded01f465f value: 0\n",
      " parent:1 NODE id: 6aa143a2-156a-11eb-81f4-98ded01f465f value: o\n",
      " parent:None\n",
      "5 NODE id: 6aa16b1c-156a-11eb-bbf4-98ded01f465f value: 1\n",
      " parent:4 NODE id: 6aa16b19-156a-11eb-94f6-98ded01f465f value: ^\n",
      " parent:3 NODE id: 6aa16b18-156a-11eb-b7f7-98ded01f465f value: ~\n",
      " parent:2 NODE id: 6aa143a3-156a-11eb-b468-98ded01f465f value: 0\n",
      " parent:1 NODE id: 6aa143a2-156a-11eb-81f4-98ded01f465f value: o\n",
      " parent:None\n",
      "4 NODE id: 6aa16b19-156a-11eb-94f6-98ded01f465f value: ^\n",
      " parent:3 NODE id: 6aa16b18-156a-11eb-b7f7-98ded01f465f value: ~\n",
      " parent:2 NODE id: 6aa143a3-156a-11eb-b468-98ded01f465f value: 0\n",
      " parent:1 NODE id: 6aa143a2-156a-11eb-81f4-98ded01f465f value: o\n",
      " parent:None\n",
      "3 NODE id: 6aa16b18-156a-11eb-b7f7-98ded01f465f value: ~\n",
      " parent:2 NODE id: 6aa143a3-156a-11eb-b468-98ded01f465f value: 0\n",
      " parent:1 NODE id: 6aa143a2-156a-11eb-81f4-98ded01f465f value: o\n",
      " parent:None\n",
      "2 NODE id: 6aa143a3-156a-11eb-b468-98ded01f465f value: 0\n",
      " parent:1 NODE id: 6aa143a2-156a-11eb-81f4-98ded01f465f value: o\n",
      " parent:None\n"
     ]
    }
   ],
   "source": [
    "print(parse_tree.root_node)\n",
    "test(parse_tree.root_node)\n"
   ]
  },
  {
   "cell_type": "code",
   "execution_count": null,
   "metadata": {},
   "outputs": [],
   "source": []
  }
 ],
 "metadata": {
  "kernelspec": {
   "display_name": "Python 3",
   "language": "python",
   "name": "python3"
  },
  "language_info": {
   "codemirror_mode": {
    "name": "ipython",
    "version": 3
   },
   "file_extension": ".py",
   "mimetype": "text/x-python",
   "name": "python",
   "nbconvert_exporter": "python",
   "pygments_lexer": "ipython3",
   "version": "3.7.9"
  }
 },
 "nbformat": 4,
 "nbformat_minor": 4
}
