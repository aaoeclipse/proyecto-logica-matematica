{
 "cells": [
  {
   "cell_type": "markdown",
   "metadata": {},
   "source": [
    "# Proyecto Logica Matematica"
   ]
  },
  {
   "cell_type": "markdown",
   "metadata": {},
   "source": [
    "Daniela Villamar 19086 <br>\n",
    "Santiago Paiz 15849 <br>\n",
    "Jose Garavito  <br>\n",
    "\n",
    "\n",
    "El objetivo de este programa conforme al proyecto es realizar un reconocedor de expresiones de calculo proporcional redusido por medio de LEX y YACC. De igual manera se implemento la libreria recomendada de py (ply) que especificaba el documento del proyecto. Gracias a los links de referencia fue posible realizar el programa con éxito."
   ]
  },
  {
   "cell_type": "code",
   "execution_count": 1,
   "metadata": {},
   "outputs": [],
   "source": [
    "import networkx as nx\n",
    "import matplotlib.pyplot as plt\n",
    "import utils.ProyectoLogica as prs\n",
    "from utils.Tree import Tree \n",
    "import json"
   ]
  },
  {
   "cell_type": "code",
   "execution_count": 29,
   "metadata": {},
   "outputs": [],
   "source": [
    "G =nx.DiGraph()"
   ]
  },
  {
   "cell_type": "code",
   "execution_count": 36,
   "metadata": {},
   "outputs": [
    {
     "data": {
      "image/png": "[encoded data removed]",
      "text/plain": [
       "<Figure size 432x288 with 1 Axes>"
      ]
     },
     "metadata": {},
     "output_type": "display_data"
    }
   ],
   "source": [
    "G.add_node(1, value='q')\n",
    "G.add_node(2, value='p')\n",
    "G.add_edge(1,2)\n",
    "labels = nx.get_node_attributes(G, 'value') \n",
    "nx.draw(G,labels=labels,with_labels=True)"
   ]
  },
  {
   "cell_type": "code",
   "execution_count": 3,
   "metadata": {},
   "outputs": [],
   "source": [
    "y = json.loads(prs.parse('~(q^r)os'))"
   ]
  },
  {
   "cell_type": "code",
   "execution_count": 4,
   "metadata": {},
   "outputs": [
    {
     "data": {
      "text/plain": [
       "{'o': {'0': {'~': {'^': {'0': 'q', '1': 'r'}}}, '1': 's'}}"
      ]
     },
     "execution_count": 4,
     "metadata": {},
     "output_type": "execute_result"
    }
   ],
   "source": [
    "y"
   ]
  },
  {
   "cell_type": "code",
   "execution_count": 5,
   "metadata": {},
   "outputs": [],
   "source": [
    "parse_tree = Tree(False)"
   ]
  },
  {
   "cell_type": "code",
   "execution_count": 6,
   "metadata": {},
   "outputs": [],
   "source": [
    "G = parse_tree.create_graph_from_json(y)"
   ]
  },
  {
   "cell_type": "code",
   "execution_count": null,
   "metadata": {},
   "outputs": [],
   "source": [
    "labels = nx.get_node_attributes(G, 'value') \n",
    "nx.draw(G,labels=labels,with_labels=True)"
   ]
  },
  {
   "cell_type": "code",
   "execution_count": 7,
   "metadata": {},
   "outputs": [
    {
     "name": "stdout",
     "output_type": "stream",
     "text": [
      "Printing: 1 NODE id: 02aa3bfa-1566-11eb-8f50-98ded01f465f value: o\n",
      " parent:None\n"
     ]
    }
   ],
   "source": [
    "print(parse_tree)"
   ]
  },
  {
   "cell_type": "code",
   "execution_count": 8,
   "metadata": {},
   "outputs": [
    {
     "name": "stdout",
     "output_type": "stream",
     "text": [
      "2 NODE id: 02aa62ec-1566-11eb-a155-98ded01f465f value: 0\n",
      " parent:1 NODE id: 02aa3bfa-1566-11eb-8f50-98ded01f465f value: o\n",
      " parent:None\n",
      "2 NODE id: 02aa62f3-1566-11eb-afab-98ded01f465f value: 1\n",
      " parent:1 NODE id: 02aa3bfa-1566-11eb-8f50-98ded01f465f value: o\n",
      " parent:None\n",
      "3 NODE id: 02aa62f4-1566-11eb-93ed-98ded01f465f value: s\n",
      " parent:2 NODE id: 02aa62f3-1566-11eb-afab-98ded01f465f value: 1\n",
      " parent:1 NODE id: 02aa3bfa-1566-11eb-8f50-98ded01f465f value: o\n",
      " parent:None\n"
     ]
    }
   ],
   "source": [
    "for child in parse_tree.root_node.children:\n",
    "    print(child)"
   ]
  },
  {
   "cell_type": "code",
   "execution_count": 4,
   "metadata": {},
   "outputs": [
    {
     "data": {
      "image/png": "[encoded data removed]",
      "image/svg+xml": [
       "<?xml version=\"1.0\" encoding=\"utf-8\" standalone=\"no\"?>\r\n",
       "<!DOCTYPE svg PUBLIC \"-//W3C//DTD SVG 1.1//EN\"\r\n",
       "  \"http://www.w3.org/Graphics/SVG/1.1/DTD/svg11.dtd\">\r\n",
       "<!-- Created with matplotlib (https://matplotlib.org/) -->\r\n",
       "<svg height=\"231.84pt\" version=\"1.1\" viewBox=\"0 0 349.2 231.84\" width=\"349.2pt\" xmlns=\"http://www.w3.org/2000/svg\" xmlns:xlink=\"http://www.w3.org/1999/xlink\">\r\n",
       " <metadata>\r\n",
       "  <rdf:RDF xmlns:cc=\"http://creativecommons.org/ns#\" xmlns:dc=\"http://purl.org/dc/elements/1.1/\" xmlns:rdf=\"http://www.w3.org/1999/02/22-rdf-syntax-ns#\">\r\n",
       "   <cc:Work>\r\n",
       "    <dc:type rdf:resource=\"http://purl.org/dc/dcmitype/StillImage\"/>\r\n",
       "    <dc:date>2020-10-23T10:43:36.031354</dc:date>\r\n",
       "    <dc:format>image/svg+xml</dc:format>\r\n",
       "    <dc:creator>\r\n",
       "     <cc:Agent>\r\n",
       "      <dc:title>Matplotlib v3.3.1, https://matplotlib.org/</dc:title>\r\n",
       "     </cc:Agent>\r\n",
       "    </dc:creator>\r\n",
       "   </cc:Work>\r\n",
       "  </rdf:RDF>\r\n",
       " </metadata>\r\n",
       " <defs>\r\n",
       "  <style type=\"text/css\">*{stroke-linecap:butt;stroke-linejoin:round;}</style>\r\n",
       " </defs>\r\n",
       " <g id=\"figure_1\">\r\n",
       "  <g id=\"patch_1\">\r\n",
       "   <path d=\"M 0 231.84 \r\n",
       "L 349.2 231.84 \r\n",
       "L 349.2 0 \r\n",
       "L 0 0 \r\n",
       "z\r\n",
       "\" style=\"fill:none;\"/>\r\n",
       "  </g>\r\n",
       "  <g id=\"axes_1\">\r\n",
       "   <g id=\"patch_2\">\r\n",
       "    <path d=\"M 7.2 224.64 \r\n",
       "L 342 224.64 \r\n",
       "L 342 7.2 \r\n",
       "L 7.2 7.2 \r\n",
       "z\r\n",
       "\" style=\"fill:#ffffff;\"/>\r\n",
       "   </g>\r\n",
       "   <g id=\"LineCollection_1\">\r\n",
       "    <path clip-path=\"url(#p2333520a7d)\" d=\"M 137.884594 123.212727 \r\n",
       "L 63.767815 17.083636 \r\n",
       "\" style=\"fill:none;stroke:#000000;\"/>\r\n",
       "    <path clip-path=\"url(#p2333520a7d)\" d=\"M 137.884594 123.212727 \r\n",
       "L 326.781818 136.91583 \r\n",
       "\" style=\"fill:none;stroke:#000000;\"/>\r\n",
       "    <path clip-path=\"url(#p2333520a7d)\" d=\"M 137.884594 123.212727 \r\n",
       "L 22.418182 214.756364 \r\n",
       "\" style=\"fill:none;stroke:#000000;\"/>\r\n",
       "   </g>\r\n",
       "   <g id=\"matplotlib.axis_1\">\r\n",
       "    <g id=\"xtick_1\"/>\r\n",
       "    <g id=\"xtick_2\"/>\r\n",
       "    <g id=\"xtick_3\"/>\r\n",
       "    <g id=\"xtick_4\"/>\r\n",
       "    <g id=\"xtick_5\"/>\r\n",
       "    <g id=\"xtick_6\"/>\r\n",
       "    <g id=\"xtick_7\"/>\r\n",
       "    <g id=\"xtick_8\"/>\r\n",
       "    <g id=\"xtick_9\"/>\r\n",
       "   </g>\r\n",
       "   <g id=\"matplotlib.axis_2\">\r\n",
       "    <g id=\"ytick_1\"/>\r\n",
       "    <g id=\"ytick_2\"/>\r\n",
       "    <g id=\"ytick_3\"/>\r\n",
       "    <g id=\"ytick_4\"/>\r\n",
       "    <g id=\"ytick_5\"/>\r\n",
       "    <g id=\"ytick_6\"/>\r\n",
       "    <g id=\"ytick_7\"/>\r\n",
       "    <g id=\"ytick_8\"/>\r\n",
       "   </g>\r\n",
       "   <g id=\"PathCollection_1\">\r\n",
       "    <defs>\r\n",
       "     <path d=\"M 0 8.660254 \r\n",
       "C 2.296726 8.660254 4.499694 7.747755 6.123724 6.123724 \r\n",
       "C 7.747755 4.499694 8.660254 2.296726 8.660254 0 \r\n",
       "C 8.660254 -2.296726 7.747755 -4.499694 6.123724 -6.123724 \r\n",
       "C 4.499694 -7.747755 2.296726 -8.660254 0 -8.660254 \r\n",
       "C -2.296726 -8.660254 -4.499694 -7.747755 -6.123724 -6.123724 \r\n",
       "C -7.747755 -4.499694 -8.660254 -2.296726 -8.660254 0 \r\n",
       "C -8.660254 2.296726 -7.747755 4.499694 -6.123724 6.123724 \r\n",
       "C -4.499694 7.747755 -2.296726 8.660254 0 8.660254 \r\n",
       "z\r\n",
       "\" id=\"m725b01eec3\" style=\"stroke:#1f78b4;\"/>\r\n",
       "    </defs>\r\n",
       "    <g clip-path=\"url(#p2333520a7d)\">\r\n",
       "     <use style=\"fill:#1f78b4;stroke:#1f78b4;\" x=\"137.884594\" xlink:href=\"#m725b01eec3\" y=\"123.212727\"/>\r\n",
       "     <use style=\"fill:#1f78b4;stroke:#1f78b4;\" x=\"63.767815\" xlink:href=\"#m725b01eec3\" y=\"17.083636\"/>\r\n",
       "     <use style=\"fill:#1f78b4;stroke:#1f78b4;\" x=\"326.781818\" xlink:href=\"#m725b01eec3\" y=\"136.91583\"/>\r\n",
       "     <use style=\"fill:#1f78b4;stroke:#1f78b4;\" x=\"22.418182\" xlink:href=\"#m725b01eec3\" y=\"214.756364\"/>\r\n",
       "    </g>\r\n",
       "   </g>\r\n",
       "   <g id=\"patch_3\">\r\n",
       "    <path d=\"M 7.2 224.64 \r\n",
       "L 7.2 7.2 \r\n",
       "\" style=\"fill:none;stroke:#000000;stroke-linecap:square;stroke-linejoin:miter;stroke-width:0.8;\"/>\r\n",
       "   </g>\r\n",
       "   <g id=\"patch_4\">\r\n",
       "    <path d=\"M 342 224.64 \r\n",
       "L 342 7.2 \r\n",
       "\" style=\"fill:none;stroke:#000000;stroke-linecap:square;stroke-linejoin:miter;stroke-width:0.8;\"/>\r\n",
       "   </g>\r\n",
       "   <g id=\"patch_5\">\r\n",
       "    <path d=\"M 7.2 224.64 \r\n",
       "L 342 224.64 \r\n",
       "\" style=\"fill:none;stroke:#000000;stroke-linecap:square;stroke-linejoin:miter;stroke-width:0.8;\"/>\r\n",
       "   </g>\r\n",
       "   <g id=\"patch_6\">\r\n",
       "    <path d=\"M 7.2 7.2 \r\n",
       "L 342 7.2 \r\n",
       "\" style=\"fill:none;stroke:#000000;stroke-linecap:square;stroke-linejoin:miter;stroke-width:0.8;\"/>\r\n",
       "   </g>\r\n",
       "   <g id=\"text_1\">\r\n",
       "    <g clip-path=\"url(#p2333520a7d)\">\r\n",
       "     <!-- ~ -->\r\n",
       "     <g transform=\"translate(132.856782 126.523977)scale(0.12 -0.12)\">\r\n",
       "      <defs>\r\n",
       "       <path d=\"M 73.1875 39.890625 \r\n",
       "L 73.1875 31.203125 \r\n",
       "Q 68.0625 27.34375 63.6875 25.6875 \r\n",
       "Q 59.328125 24.03125 54.59375 24.03125 \r\n",
       "Q 49.21875 24.03125 42.09375 26.90625 \r\n",
       "Q 41.546875 27.09375 41.3125 27.203125 \r\n",
       "Q 40.96875 27.34375 40.234375 27.59375 \r\n",
       "Q 32.671875 30.609375 28.078125 30.609375 \r\n",
       "Q 23.78125 30.609375 19.578125 28.734375 \r\n",
       "Q 15.375 26.859375 10.59375 22.796875 \r\n",
       "L 10.59375 31.5 \r\n",
       "Q 15.71875 35.359375 20.09375 37.03125 \r\n",
       "Q 24.46875 38.71875 29.203125 38.71875 \r\n",
       "Q 34.578125 38.71875 41.75 35.796875 \r\n",
       "Q 42.234375 35.59375 42.484375 35.5 \r\n",
       "Q 42.875 35.359375 43.5625 35.109375 \r\n",
       "Q 51.125 32.078125 55.71875 32.078125 \r\n",
       "Q 59.90625 32.078125 64.03125 33.9375 \r\n",
       "Q 68.171875 35.796875 73.1875 39.890625 \r\n",
       "z\r\n",
       "\" id=\"DejaVuSans-126\"/>\r\n",
       "      </defs>\r\n",
       "      <use xlink:href=\"#DejaVuSans-126\"/>\r\n",
       "     </g>\r\n",
       "    </g>\r\n",
       "   </g>\r\n",
       "   <g id=\"text_2\">\r\n",
       "    <g clip-path=\"url(#p2333520a7d)\">\r\n",
       "     <!-- p -->\r\n",
       "     <g transform=\"translate(59.958752 20.394886)scale(0.12 -0.12)\">\r\n",
       "      <defs>\r\n",
       "       <path d=\"M 18.109375 8.203125 \r\n",
       "L 18.109375 -20.796875 \r\n",
       "L 9.078125 -20.796875 \r\n",
       "L 9.078125 54.6875 \r\n",
       "L 18.109375 54.6875 \r\n",
       "L 18.109375 46.390625 \r\n",
       "Q 20.953125 51.265625 25.265625 53.625 \r\n",
       "Q 29.59375 56 35.59375 56 \r\n",
       "Q 45.5625 56 51.78125 48.09375 \r\n",
       "Q 58.015625 40.1875 58.015625 27.296875 \r\n",
       "Q 58.015625 14.40625 51.78125 6.484375 \r\n",
       "Q 45.5625 -1.421875 35.59375 -1.421875 \r\n",
       "Q 29.59375 -1.421875 25.265625 0.953125 \r\n",
       "Q 20.953125 3.328125 18.109375 8.203125 \r\n",
       "z\r\n",
       "M 48.6875 27.296875 \r\n",
       "Q 48.6875 37.203125 44.609375 42.84375 \r\n",
       "Q 40.53125 48.484375 33.40625 48.484375 \r\n",
       "Q 26.265625 48.484375 22.1875 42.84375 \r\n",
       "Q 18.109375 37.203125 18.109375 27.296875 \r\n",
       "Q 18.109375 17.390625 22.1875 11.75 \r\n",
       "Q 26.265625 6.109375 33.40625 6.109375 \r\n",
       "Q 40.53125 6.109375 44.609375 11.75 \r\n",
       "Q 48.6875 17.390625 48.6875 27.296875 \r\n",
       "z\r\n",
       "\" id=\"DejaVuSans-112\"/>\r\n",
       "      </defs>\r\n",
       "      <use xlink:href=\"#DejaVuSans-112\"/>\r\n",
       "     </g>\r\n",
       "    </g>\r\n",
       "   </g>\r\n",
       "   <g id=\"text_3\">\r\n",
       "    <g clip-path=\"url(#p2333520a7d)\">\r\n",
       "     <!-- ~p -->\r\n",
       "     <g transform=\"translate(317.944943 140.22708)scale(0.12 -0.12)\">\r\n",
       "      <use xlink:href=\"#DejaVuSans-126\"/>\r\n",
       "      <use x=\"83.789062\" xlink:href=\"#DejaVuSans-112\"/>\r\n",
       "     </g>\r\n",
       "    </g>\r\n",
       "   </g>\r\n",
       "   <g id=\"text_4\">\r\n",
       "    <g clip-path=\"url(#p2333520a7d)\">\r\n",
       "     <!-- ~~p -->\r\n",
       "     <g transform=\"translate(8.553494 218.067614)scale(0.12 -0.12)\">\r\n",
       "      <use xlink:href=\"#DejaVuSans-126\"/>\r\n",
       "      <use x=\"83.789062\" xlink:href=\"#DejaVuSans-126\"/>\r\n",
       "      <use x=\"167.578125\" xlink:href=\"#DejaVuSans-112\"/>\r\n",
       "     </g>\r\n",
       "    </g>\r\n",
       "   </g>\r\n",
       "  </g>\r\n",
       " </g>\r\n",
       " <defs>\r\n",
       "  <clipPath id=\"p2333520a7d\">\r\n",
       "   <rect height=\"217.44\" width=\"334.8\" x=\"7.2\" y=\"7.2\"/>\r\n",
       "  </clipPath>\r\n",
       " </defs>\r\n",
       "</svg>\r\n"
      ],
      "text/plain": [
       "<Figure size 432x288 with 1 Axes>"
      ]
     },
     "metadata": {},
     "output_type": "display_data"
    }
   ],
   "source": [
    "parse('~~~p')"
   ]
  },
  {
   "cell_type": "code",
   "execution_count": 5,
   "metadata": {},
   "outputs": [
    {
     "name": "stdout",
     "output_type": "stream",
     "text": [
      "init: ~\n"
     ]
    }
   ],
   "source": [
    "search_for_node('~p')"
   ]
  },
  {
   "cell_type": "code",
   "execution_count": null,
   "metadata": {},
   "outputs": [],
   "source": []
  }
 ],
 "metadata": {
  "kernelspec": {
   "display_name": "Python 3",
   "language": "python",
   "name": "python3"
  },
  "language_info": {
   "codemirror_mode": {
    "name": "ipython",
    "version": 3
   },
   "file_extension": ".py",
   "mimetype": "text/x-python",
   "name": "python",
   "nbconvert_exporter": "python",
   "pygments_lexer": "ipython3",
   "version": "3.7.9"
  }
 },
 "nbformat": 4,
 "nbformat_minor": 4
}
